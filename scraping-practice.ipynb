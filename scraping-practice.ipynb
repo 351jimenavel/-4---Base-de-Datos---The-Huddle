{
 "cells": [
  {
   "cell_type": "markdown",
   "id": "0a7033ce",
   "metadata": {},
   "source": [
    "## Archivo para practicar Web Scraping basico\n",
    "\n",
    "-  Web Scraping: the automated process of extracting data from websites"
   ]
  },
  {
   "cell_type": "code",
   "execution_count": null,
   "id": "9aaad07a",
   "metadata": {},
   "outputs": [],
   "source": [
    "'''1. Hacer una request a la URL principal (http://books.toscrape.com)\n",
    "2. Parsear el HTML con BeautifulSoup\n",
    "3. Buscar todos los elementos que contienen los libros (usualmente <article class=\"product_pod\">)\n",
    "4. Para cada libro:\n",
    "    a. Extraer el título\n",
    "    b. Extraer el precio\n",
    "    c. Extraer la disponibilidad (en stock o no)\n",
    "    d. Extraer el enlace al detalle del libro (href parcial)\n",
    "    e. Guardar esta info en una lista o dict\n",
    "'''\n"
   ]
  }
 ],
 "metadata": {
  "kernelspec": {
   "display_name": "venv",
   "language": "python",
   "name": "python3"
  },
  "language_info": {
   "codemirror_mode": {
    "name": "ipython",
    "version": 3
   },
   "file_extension": ".py",
   "mimetype": "text/x-python",
   "name": "python",
   "nbconvert_exporter": "python",
   "pygments_lexer": "ipython3",
   "version": "3.13.5"
  }
 },
 "nbformat": 4,
 "nbformat_minor": 5
}
