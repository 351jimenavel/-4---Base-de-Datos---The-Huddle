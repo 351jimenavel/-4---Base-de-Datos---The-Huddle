{
 "cells": [
  {
   "cell_type": "code",
   "execution_count": 10,
   "id": "2a7465ab",
   "metadata": {},
   "outputs": [],
   "source": [
    "import sqlite3\n",
    "#import pandas as pd"
   ]
  },
  {
   "cell_type": "markdown",
   "id": "eb5d04f5",
   "metadata": {},
   "source": [
    "## Sección 1: Consultas sin usar ID"
   ]
  },
  {
   "cell_type": "code",
   "execution_count": null,
   "id": "8ce1333d",
   "metadata": {},
   "outputs": [
    {
     "name": "stdout",
     "output_type": "stream",
     "text": [
      "1 - A Light in the Attic Poetry\n",
      "2 - Tipping the Velvet Historical Fiction\n",
      "3 - Soumission Fiction\n",
      "4 - Sharp Objects Mystery\n",
      "5 - Sapiens: A Brief History of Humankind History\n"
     ]
    }
   ],
   "source": [
    "## EJERCICIO 1 - Listar títulos y categorías de todos los libros disponibles.\n",
    "import sqlite3\n",
    "\n",
    "conn = sqlite3.connect('books_data.db')\n",
    "cursor = conn.cursor()\n",
    "\n",
    "consulta = \"SELECT libros.titulo, libros.categoria FROM libros\"\n",
    "cursor.execute(consulta)\n",
    "#titulos_categoria = cursor.fetchall()\n",
    "titulos_categoria = cursor.fetchmany(5)\n",
    "\n",
    "contador = 0\n",
    "for t_c in titulos_categoria:\n",
    "    contador += 1\n",
    "    limpio = \" \".join(t_c)\n",
    "    print(f'{contador} - {limpio}')\n",
    "\n",
    "# SIEMPRE cerrar la conexion con la db\n",
    "cursor.close()\n",
    "conn.close()"
   ]
  },
  {
   "cell_type": "code",
   "execution_count": null,
   "id": "83cb5e0f",
   "metadata": {},
   "outputs": [
    {
     "name": "stdout",
     "output_type": "stream",
     "text": [
      "1 ('A Light in the Attic', 51.77)\n",
      "2 ('Tipping the Velvet', 53.74)\n",
      "3 ('Soumission', 50.1)\n",
      "4 ('Sharp Objects', 47.82)\n",
      "5 ('Sapiens: A Brief History of Humankind', 54.23)\n",
      "6 ('The Requiem Red', 22.65)\n",
      "7 ('The Dirty Little Secrets of Getting Your Dream Job', 33.34)\n",
      "8 ('The Boys in the Boat: Nine Americans and Their Epic Quest for Gold at the 1936 Berlin Olympics', 22.6)\n",
      "9 ('The Black Maria', 52.15)\n",
      "10 (\"Shakespeare's Sonnets\", 20.66)\n"
     ]
    }
   ],
   "source": [
    "## EJERCICIO 2. Obtener los títulos de libros con precio mayor a £20.\n",
    "import sqlite3\n",
    "\n",
    "conn = sqlite3.connect('books_data.db')\n",
    "cursor = conn.cursor()\n",
    "\n",
    "consulta = \"SELECT libros.titulo, libros.precio FROM libros WHERE libros.precio > 20\"\n",
    "cursor.execute(consulta)\n",
    "#libros_precio_mas_de_20 = cursor.fetchall()\n",
    "libros_precio_mas_de_20 = cursor.fetchmany(10)\n",
    "\n",
    "contador = 0\n",
    "for libro in libros_precio_mas_de_20:\n",
    "    contador += 1\n",
    "    print(f'{contador}', libro)\n",
    "\n",
    "cursor.close()\n",
    "conn.close()"
   ]
  },
  {
   "cell_type": "code",
   "execution_count": null,
   "id": "32e62494",
   "metadata": {},
   "outputs": [
    {
     "name": "stdout",
     "output_type": "stream",
     "text": [
      "1 ('A Light in the Attic',)\n",
      "2 ('Tipping the Velvet',)\n",
      "3 ('Soumission',)\n",
      "4 ('Sharp Objects',)\n",
      "5 ('Sapiens: A Brief History of Humankind',)\n"
     ]
    }
   ],
   "source": [
    "## EJERCICIO 3. Mostrar los libros que están fuera de stock (no disponibles).\n",
    "\n",
    "# Nota: ni un libro en la db esta registrado como fuera de stock\n",
    "import sqlite3\n",
    "\n",
    "conn = sqlite3.connect('books_data.db')\n",
    "cursor = conn.cursor()\n",
    "\n",
    "consulta = \"SELECT libros.titulo FROM libros WHERE libros.disponibilidad = 'In stock'\"      # devolvera todos los libros\n",
    "cursor.execute(consulta)\n",
    "#libros_no_disponibles = cursor.fetchall()\n",
    "libros_no_disponibles = cursor.fetchmany(5)\n",
    "contador = 0\n",
    "\n",
    "for libro in libros_no_disponibles:\n",
    "    contador += 1\n",
    "    print(f'{contador}', libro)\n",
    "\n",
    "cursor.close()\n",
    "conn.close()"
   ]
  },
  {
   "cell_type": "code",
   "execution_count": 55,
   "id": "e0a4a9fc",
   "metadata": {},
   "outputs": [
    {
     "name": "stdout",
     "output_type": "stream",
     "text": [
      "(1, 'Academic')\n",
      "(67, 'Add a comment')\n",
      "(1, 'Adult Fiction')\n",
      "(8, 'Art')\n",
      "(9, 'Autobiography')\n",
      "(5, 'Biography')\n",
      "(12, 'Business')\n",
      "(29, 'Childrens')\n",
      "(3, 'Christian')\n",
      "(6, 'Christian Fiction')\n",
      "(19, 'Classics')\n",
      "(3, 'Contemporary')\n",
      "(1, 'Crime')\n",
      "(1, 'Cultural')\n",
      "(152, 'Default')\n",
      "(1, 'Erotica')\n",
      "(48, 'Fantasy')\n",
      "(65, 'Fiction')\n",
      "(30, 'Food and Drink')\n",
      "(4, 'Health')\n",
      "(2, 'Historical')\n",
      "(26, 'Historical Fiction')\n",
      "(18, 'History')\n",
      "(17, 'Horror')\n",
      "(10, 'Humor')\n",
      "(13, 'Music')\n",
      "(32, 'Mystery')\n",
      "(6, 'New Adult')\n",
      "(110, 'Nonfiction')\n",
      "(1, 'Novels')\n",
      "(1, 'Paranormal')\n",
      "(1, 'Parenting')\n",
      "(11, 'Philosophy')\n",
      "(19, 'Poetry')\n",
      "(3, 'Politics')\n",
      "(7, 'Psychology')\n",
      "(7, 'Religion')\n",
      "(35, 'Romance')\n",
      "(14, 'Science')\n",
      "(16, 'Science Fiction')\n",
      "(5, 'Self Help')\n",
      "(75, 'Sequential Art')\n",
      "(1, 'Short Stories')\n",
      "(6, 'Spirituality')\n",
      "(5, 'Sports and Games')\n",
      "(1, 'Suspense')\n",
      "(11, 'Thriller')\n",
      "(11, 'Travel')\n",
      "(17, 'Womens Fiction')\n",
      "(54, 'Young Adult')\n"
     ]
    }
   ],
   "source": [
    "## EJERCICIO 4. Contar cuántos libros hay por categoría.\n",
    "import sqlite3\n",
    "\n",
    "conn = sqlite3.connect('books_data.db')\n",
    "cursor = conn.cursor()\n",
    "\n",
    "consulta = \"SELECT COUNT(libros.titulo), libros.categoria FROM libros GROUP BY libros.categoria\"\n",
    "cursor.execute(consulta)\n",
    "\n",
    "libros_en_categorias = cursor.fetchall()\n",
    "\n",
    "for libro in libros_en_categorias:\n",
    "    print(libro)\n",
    "#print(libros_en_categorias)\n",
    "\n",
    "cursor.close()\n",
    "conn.close()"
   ]
  },
  {
   "cell_type": "code",
   "execution_count": 63,
   "id": "3756f0e2",
   "metadata": {},
   "outputs": [
    {
     "name": "stdout",
     "output_type": "stream",
     "text": [
      "1 ('A Light in the Attic', 'Marie Gibson')\n",
      "2 ('Tipping the Velvet', 'Sarah Waters')\n",
      "3 ('Soumission', 'Michel Houellebecq')\n",
      "4 ('Sharp Objects', 'Gillian Flynn')\n",
      "5 ('Sapiens: A Brief History of Humankind', 'Yuval Noah Harari')\n",
      "6 ('The Requiem Red', 'Edward Komara')\n",
      "7 ('The Requiem Red', 'Peter Lee')\n",
      "8 ('The Dirty Little Secrets of Getting Your Dream Job', 'Don Raskin')\n",
      "9 ('The Coming Woman: A Novel Based on the Life of the Infamous Feminist, Victoria Woodhull', 'Karen J. Hicks')\n",
      "10 ('The Boys in the Boat: Nine Americans and Their Epic Quest for Gold at the 1936 Berlin Olympics', 'Daniel James Brown')\n",
      "11 ('The Black Maria', 'Aracelis Girmay')\n",
      "12 ('Starving Hearts (Triangular Trade Trilogy, #1)', 'Janine Mendenhall')\n",
      "13 (\"Shakespeare's Sonnets\", 'Jonathan F. S. Post')\n",
      "14 ('Set Me Free', 'Cate Dean')\n",
      "15 (\"Scott Pilgrim's Precious Little Life (Scott Pilgrim #1)\", \"Bryan Lee O'Malley\")\n",
      "16 ('Rip it Up and Start Again', 'Simon Reynolds')\n",
      "17 ('Our Band Could Be Your Life: Scenes from the American Indie Underground, 1981-1991', 'Michael Azerrad')\n",
      "18 ('Olio', 'E. F. (Edmund Francis) Burton')\n",
      "19 ('Mesaerion: The Best Science Fiction Stories 1800-1849', 'Edgar Allan Poe')\n",
      "20 ('Mesaerion: The Best Science Fiction Stories 1800-1849', 'Nathaniel Hawthorne')\n"
     ]
    }
   ],
   "source": [
    "## EJERCICIO 5. Mostrar los títulos y nombres de autores usando un JOIN (sin mostrar los IDs).\n",
    "import sqlite3\n",
    "\n",
    "conn = sqlite3.connect('books_data.db')\n",
    "cursor = conn.cursor()\n",
    "\n",
    "consulta =\"SELECT libros.titulo, autores.nombre_completo FROM libros JOIN libros_autores ON libros.id = libros_autores.libro_id JOIN autores ON autores.id = libros_autores.autor_id\"\n",
    "cursor.execute(consulta)\n",
    "\n",
    "#titulos_autores = cursor.fetchall()\n",
    "titulos_autores = cursor.fetchmany(20)\n",
    "\n",
    "contador = 0\n",
    "\n",
    "for libro in titulos_autores:\n",
    "    contador += 1\n",
    "    print(f'{contador}', libro)\n",
    "\n",
    "cursor.close()\n",
    "conn.close()"
   ]
  },
  {
   "cell_type": "code",
   "execution_count": null,
   "id": "fd9a1cad",
   "metadata": {},
   "outputs": [
    {
     "name": "stdout",
     "output_type": "stream",
     "text": [
      "1 ('Sharp Objects', 'Four')\n",
      "2 ('The Dirty Little Secrets of Getting Your Dream Job', 'Four')\n",
      "3 ('The Boys in the Boat: Nine Americans and Their Epic Quest for Gold at the 1936 Berlin Olympics', 'Four')\n",
      "4 (\"Shakespeare's Sonnets\", 'Four')\n",
      "5 ('Wall and Piece', 'Four')\n",
      "6 ('Behind Closed Doors', 'Four')\n",
      "7 ('Untitled Collection: Sabbath Poems 2014', 'Four')\n",
      "8 ('Unseen City: The Majesty of Pigeons, the Discreet Charm of Snails & Other Wonders of the Urban Wilderness', 'Four')\n",
      "9 ('This One Summer', 'Four')\n",
      "10 ('The Past Never Ends', 'Four')\n"
     ]
    }
   ],
   "source": [
    "## EJERCICIO 6. Mostrar los libros con rating igual a 'Four'.\n",
    "import sqlite3\n",
    "\n",
    "conn = sqlite3.connect('books_data.db')\n",
    "cursor = conn.cursor()\n",
    "\n",
    "consulta =\"SELECT libros.titulo, libros.rating FROM libros WHERE libros.rating = 'Four'\"\n",
    "cursor.execute(consulta)\n",
    "\n",
    "#libros_rating_cuatro = cursor.fetchall()       # Output: 179 libros\n",
    "libros_rating_cuatro = cursor.fetchmany(10)\n",
    "\n",
    "contador = 0\n",
    "for libro in libros_rating_cuatro:\n",
    "    contador += 1\n",
    "    print(f'{contador}', libro)\n",
    "\n",
    "cursor.close()\n",
    "conn.close()"
   ]
  },
  {
   "cell_type": "code",
   "execution_count": 73,
   "id": "032efb5f",
   "metadata": {},
   "outputs": [
    {
     "name": "stdout",
     "output_type": "stream",
     "text": [
      "1 ('The Five Love Languages: How to Express Heartfelt Commitment to Your Mate',)\n",
      "2 ('Without Borders (Wanderlove #1)',)\n",
      "3 ('We Love You, Charlie Freeman',)\n",
      "4 ('In the Country We Love: My Family Divided',)\n",
      "5 ('You Are What You Love: The Spiritual Power of Habit',)\n",
      "6 ('The Love and Lemons Cookbook: An Apple-to-Zucchini Celebration of Impromptu Cooking',)\n",
      "7 ('Suddenly in Love (Lake Haven #1)',)\n",
      "8 ('Romero and Juliet: A Tragic Tale of Love and Zombies',)\n",
      "9 ('Redeeming Love',)\n",
      "10 ('I Had a Nice Time And Other Lies...: How to find love & sh*t like that',)\n",
      "11 ('Daring Greatly: How the Courage to Be Vulnerable Transforms the Way We Live, Love, Parent, and Lead',)\n",
      "12 ('Love Is a Mix Tape (Music #1)',)\n",
      "13 ('Looking for Lovely: Collecting the Moments that Matter',)\n",
      "14 ('Crazy Love: Overwhelmed by a Relentless God',)\n",
      "15 ('A Series of Catastrophes and Miracles: A True Story of Love, Science, and Cancer',)\n",
      "16 ('The Golden Condom: And Other Essays on Love Lost and Found',)\n",
      "17 ('No Love Allowed (Dodge Cove #1)',)\n",
      "18 ('Love, Lies and Spies',)\n",
      "19 ('The Improbability of Love',)\n",
      "20 ('Lies and Other Acts of Love',)\n",
      "21 (\"Love That Boy: What Two Presidents, Eight Road Trips, and My Son Taught Me About a Parent's Expectations\",)\n",
      "22 ('Sit, Stay, Love',)\n",
      "23 ('For the Love: Fighting for Grace in a World of Impossible Standards',)\n",
      "24 ('The Sound Of Love',)\n",
      "25 (\"Talking to Girls About Duran Duran: One Young Man's Quest for True Love and a Cooler Haircut\",)\n",
      "26 ('Data, A Love Story: How I Gamed Online Dating to Meet My Match',)\n",
      "27 ('Dark Lover (Black Dagger Brotherhood #1)',)\n",
      "28 (\"The Lover's Dictionary\",)\n",
      "29 ('The Disappearing Spoon: And Other True Tales of Madness, Love, and the History of the World from the Periodic Table of the Elements',)\n",
      "30 (\"In the Garden of Beasts: Love, Terror, and an American Family in Hitler's Berlin\",)\n",
      "31 (\"Best of My Love (Fool's Gold #20)\",)\n",
      "32 ('The Course of Love',)\n",
      "33 ('Twenty Love Poems and a Song of Despair',)\n",
      "34 ('Eat, Pray, Love',)\n"
     ]
    }
   ],
   "source": [
    "## EJERCICIO 7. Obtener los libros que contienen la palabra \"Love\" en el título.\n",
    "import sqlite3\n",
    "\n",
    "conn = sqlite3.connect('books_data.db')\n",
    "cursor = conn.cursor()\n",
    "\n",
    "consulta =\"SELECT libros.titulo FROM libros WHERE libros.titulo LIKE '%love%'\"\n",
    "cursor.execute(consulta)\n",
    "\n",
    "libros_titulo_love = cursor.fetchall()\n",
    "#libros_titulo_love = cursor.fetchmany(10)\n",
    "\n",
    "contador = 0\n",
    "for libro in libros_titulo_love:\n",
    "    contador += 1\n",
    "    print(f'{contador}', libro)\n",
    "\n",
    "cursor.close()\n",
    "conn.close()"
   ]
  },
  {
   "cell_type": "code",
   "execution_count": 77,
   "id": "0811817b",
   "metadata": {},
   "outputs": [
    {
     "name": "stdout",
     "output_type": "stream",
     "text": [
      "1 ('Chase Me (Paris Nights #2)', 'Laura Florand', 'Romance')\n",
      "2 ('Black Dust', 'William M. Frank', 'Romance')\n",
      "3 ('Her Backup Boyfriend (The Sorensen Family #1)', 'Ashlee Mallory', 'Romance')\n",
      "4 ('First and First (Five Boroughs #3)', 'United States. Congress. House. Committee on Post Office and Civil Service. Subcommittee on Postal Operations and Services', 'Romance')\n",
      "5 ('Fifty Shades Darker (Fifty Shades #2)', 'E. L. James', 'Romance')\n",
      "6 ('The Wedding Dress', 'Clare Gibson', 'Romance')\n",
      "7 ('Suddenly in Love (Lake Haven #1)', 'Julia London', 'Romance')\n",
      "8 ('Something More Than This', 'Bede Rundle', 'Romance')\n",
      "9 ('Doing It Over (Most Likely To #1)', 'Kwok-bun Chan', 'Romance')\n",
      "10 ('Doing It Over (Most Likely To #1)', 'Agnes Ku', 'Romance')\n",
      "11 ('Doing It Over (Most Likely To #1)', 'Yin-wah Chu', 'Romance')\n",
      "12 (\"The Wedding Pact (The O'Malleys #2)\", 'Katee Robert', 'Romance')\n",
      "13 ('Hold Your Breath (Search and Rescue #1)', 'Katie Ruggle', 'Romance')\n",
      "14 ('Dirty (Dive Bar #1)', 'Kylie Scott', 'Romance')\n",
      "15 ('Take Me Home Tonight (Rock Star Romance #3)', 'Erika Kelly', 'Romance')\n",
      "16 ('Off the Hook (Fishing for Trouble #1)', 'Laura Drewry', 'Romance')\n",
      "17 (\"A Gentleman's Position (Society of Gentlemen #3)\", 'KJ Charles', 'Romance')\n",
      "18 ('Sit, Stay, Love', 'Debbie Burns', 'Romance')\n",
      "19 (\"A Girl's Guide to Moving On (New Beginnings #2)\", 'Debbie Macomber', 'Romance')\n",
      "20 ('The Perfect Play (Play by Play #1)', 'Jaci Burton', 'Romance')\n",
      "21 ('Dark Lover (Black Dagger Brotherhood #1)', 'J.R. Ward', 'Romance')\n",
      "22 ('Changing the Game (Play by Play #2)', 'Jaci Burton', 'Romance')\n",
      "23 ('A Walk to Remember', 'Pasquale De Marco', 'Romance')\n",
      "24 ('The Purest Hook (Second Circle Tattoos #3)', 'Scarlett Cole', 'Romance')\n",
      "25 ('The Obsession', 'Jesse Q. Sutanto', 'Romance')\n",
      "26 ('Reservations for Two', 'Hillary Manton Lodge', 'Romance')\n",
      "27 (\"Best of My Love (Fool's Gold #20)\", 'Susan Mallery', 'Romance')\n",
      "28 ('Where Lightning Strikes (Bleeding Stars #3)', 'A. L. Jackson', 'Romance')\n",
      "29 ('This One Moment (Pushing Limits #1)', 'Stina Lindenblatt', 'Romance')\n",
      "30 ('Rhythm, Chord & Malykhin', 'Mel Bay', 'Romance')\n",
      "31 ('My Perfect Mistake (Over the Top #1)', 'Kelly Siskind', 'Romance')\n",
      "32 ('Listen to Me (Fusion #1)', 'Stephen D. Rappaport', 'Romance')\n",
      "33 ('Imperfect Harmony', 'Amanda Torrey', 'Romance')\n",
      "34 ('Fighting Fate (Fighting #6)', 'JB Salsbury', 'Romance')\n",
      "35 ('Deep Under (Walker Security #1)', 'Lisa Renee Jones', 'Romance')\n",
      "36 (\"Charity's Cross (Charles Towne Belles #4)\", 'MaryLu Tyndall', 'Romance')\n",
      "37 ('Bounty (Colorado Mountain #7)', 'Kristen Ashley', 'Romance')\n"
     ]
    }
   ],
   "source": [
    "## EJERCICIO 8. Mostrar el título y nombre del autor de los libros que pertenecen a la categoría “Romance”.\n",
    "## EJERCICIO 7. Obtener los libros que contienen la palabra \"Love\" en el título.\n",
    "\n",
    "import sqlite3\n",
    "\n",
    "conn = sqlite3.connect('books_data.db')\n",
    "cursor = conn.cursor()\n",
    "\n",
    "consulta =\"SELECT libros.titulo, autores.nombre_completo, libros.categoria FROM libros JOIN libros_autores ON libros.id = libros_autores.libro_id JOIN autores ON autores.id = libros_autores.autor_id WHERE libros.categoria IN ('Romance')\"\n",
    "cursor.execute(consulta)\n",
    "\n",
    "titulo_autor_romance = cursor.fetchall()\n",
    "#titulo_autor_romance = cursor.fetchmany(10)\n",
    "\n",
    "contador = 0\n",
    "for libro in titulo_autor_romance:\n",
    "    contador += 1\n",
    "    print(f'{contador}', libro)\n",
    "\n",
    "cursor.close()\n",
    "conn.close()"
   ]
  },
  {
   "cell_type": "code",
   "execution_count": 79,
   "id": "33716901",
   "metadata": {},
   "outputs": [
    {
     "name": "stdout",
     "output_type": "stream",
     "text": [
      "1 ('The Requiem Red', 22.65)\n",
      "2 ('The Coming Woman: A Novel Based on the Life of the Infamous Feminist, Victoria Woodhull', 17.93)\n",
      "3 ('The Boys in the Boat: Nine Americans and Their Epic Quest for Gold at the 1936 Berlin Olympics', 22.6)\n",
      "4 ('Starving Hearts (Triangular Trade Trilogy, #1)', 13.99)\n",
      "5 (\"Shakespeare's Sonnets\", 20.66)\n",
      "6 ('Set Me Free', 17.46)\n",
      "7 ('Olio', 23.88)\n",
      "8 ('In Her Wake', 12.84)\n",
      "9 (\"America's Cradle of Quarterbacks: Western Pennsylvania's Football Factory from Johnny Unitas to Joe Montana\", 22.5)\n",
      "10 ('The Four Agreements: A Practical Guide to Personal Freedom', 17.66)\n"
     ]
    }
   ],
   "source": [
    "## EJERCICIO 9. Listar los libros cuyo precio está entre £10 y £25.\n",
    "import sqlite3\n",
    "\n",
    "conn = sqlite3.connect('books_data.db')\n",
    "cursor = conn.cursor()\n",
    "\n",
    "consulta =\"SELECT libros.titulo, libros.precio FROM libros WHERE libros.precio >= 10 AND libros.precio <= 25\"\n",
    "cursor.execute(consulta)\n",
    "\n",
    "#precio = cursor.fetchall()\n",
    "precio = cursor.fetchmany(10)\n",
    "\n",
    "contador = 0\n",
    "for libro in precio:\n",
    "    contador += 1\n",
    "    print(f'{contador}', libro)\n",
    "\n",
    "cursor.close()\n",
    "conn.close()"
   ]
  },
  {
   "cell_type": "code",
   "execution_count": 109,
   "id": "f7aad7f9",
   "metadata": {},
   "outputs": [
    {
     "name": "stdout",
     "output_type": "stream",
     "text": [
      "1 ('The Perfect Play (Play by Play #1)', 59.99)\n",
      "2 ('Last One Home (New Beginnings #1)', 59.98)\n",
      "3 ('Civilization and Its Discontents', 59.95)\n",
      "4 ('The Barefoot Contessa Cookbook', 59.92)\n",
      "5 ('The Diary of a Young Girl', 59.9)\n"
     ]
    }
   ],
   "source": [
    "## EJERCICIO 10. Mostrar los 5 libros con mayor precio, ordenados del más caro al menos caro.\n",
    "import sqlite3\n",
    "\n",
    "conn = sqlite3.connect('books_data.db')\n",
    "cursor = conn.cursor()\n",
    "\n",
    "consulta =\"SELECT libros.titulo, libros.precio FROM libros ORDER BY libros.precio DESC LIMIT 5\"\n",
    "cursor.execute(consulta)\n",
    "\n",
    "precio = cursor.fetchall()\n",
    "#precio = cursor.fetchmany(5)\n",
    "\n",
    "contador = 0\n",
    "for libro in precio:\n",
    "    contador += 1\n",
    "    print(f'{contador}', libro)\n",
    "\n",
    "cursor.close()\n",
    "conn.close()"
   ]
  },
  {
   "cell_type": "markdown",
   "id": "ae7b9001",
   "metadata": {},
   "source": [
    "## Sección 2: Consultas con uso de ID"
   ]
  },
  {
   "cell_type": "code",
   "execution_count": null,
   "id": "39708a9b",
   "metadata": {},
   "outputs": [],
   "source": [
    "## EJERCICIO 1. Mostrar el ID y título del libro cuyo ID sea mayor a 50."
   ]
  },
  {
   "cell_type": "code",
   "execution_count": null,
   "id": "a6a574ab",
   "metadata": {},
   "outputs": [],
   "source": [
    "## EJERCICIO 2. Listar el ID y nombre del autor cuyo ID sea menor a 10.\n",
    "## EJERCICIO 3. Mostrar todos los registros de la tabla libros_autores y qué relación representa cada fila (usando JOINs).\n",
    "## EJERCICIO 4. Obtener todos los autores asociados al libro con ID = 5.\n",
    "## EJERCICIO 5. Mostrar todos los libros asociados al autor con ID = 3.\n",
    "## EJERCICIO 6. Mostrar los títulos de libros y sus IDs junto con los IDs de sus autores.\n",
    "## EJERCICIO 7. Contar cuántos libros tiene cada autor.\n",
    "## EJERCICIO 8. Mostrar los libros con múltiples autores.\n",
    "## EJERCICIO 9. Mostrar los autores que escribieron libros en la categoría \"Science\".\n",
    "## EJERCICIO 10. Mostrar los autores cuyo nombre empiece con \"A\" y estén relacionados con algún libro."
   ]
  }
 ],
 "metadata": {
  "kernelspec": {
   "display_name": "venv",
   "language": "python",
   "name": "python3"
  },
  "language_info": {
   "codemirror_mode": {
    "name": "ipython",
    "version": 3
   },
   "file_extension": ".py",
   "mimetype": "text/x-python",
   "name": "python",
   "nbconvert_exporter": "python",
   "pygments_lexer": "ipython3",
   "version": "3.13.5"
  }
 },
 "nbformat": 4,
 "nbformat_minor": 5
}
