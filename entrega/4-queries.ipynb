{
 "cells": [
  {
   "cell_type": "markdown",
   "id": "1706fcda",
   "metadata": {},
   "source": [
    "## Registro de consultas muy especificas"
   ]
  },
  {
   "cell_type": "code",
   "execution_count": 48,
   "id": "1de9a290",
   "metadata": {},
   "outputs": [
    {
     "name": "stdout",
     "output_type": "stream",
     "text": [
      "Para cuando no tengas mucha plata! Pasa a ver estos titulos\n",
      "1. TITULO: Patience. RATING: Three. PRECIO: 10.16\n",
      "2. TITULO: The Project. RATING: One. PRECIO: 10.65\n",
      "3. TITULO: The Long Shadow of Small Ghosts: Murder and Memory in an American City. RATING: One. PRECIO: 10.97\n",
      "4. TITULO: The Argonauts. RATING: Two. PRECIO: 10.93\n",
      "5. TITULO: Miss Peregrineâs Home for Peculiar Children (Miss Peregrineâs Peculiar Children #1). RATING: One. PRECIO: 10.76\n",
      "6. TITULO: Beauty Restored (Riley Family Legacy Novellas #3). RATING: Two. PRECIO: 11.11\n",
      "7. TITULO: The Lucifer Effect: Understanding How Good People Turn Evil. RATING: One. PRECIO: 10.4\n",
      "8. TITULO: Tastes Like Fear (DI Marnie Rome #3). RATING: One. PRECIO: 10.69\n",
      "9. TITULO: Superman Vol. 1: Before Truth (Superman by Gene Luen Yang #1). RATING: Five. PRECIO: 11.89\n",
      "10. TITULO: Pet Sematary. RATING: Three. PRECIO: 10.56\n",
      "11. TITULO: Old School (Diary of a Wimpy Kid #10). RATING: Five. PRECIO: 11.83\n",
      "12. TITULO: I Am Pilgrim (Pilgrim #1). RATING: Four. PRECIO: 10.6\n",
      "13. TITULO: Greek Mythic History. RATING: Five. PRECIO: 10.23\n",
      "14. TITULO: Dear Mr. Knightley. RATING: Five. PRECIO: 11.21\n",
      "15. TITULO: City of Fallen Angels (The Mortal Instruments #4). RATING: Four. PRECIO: 11.23\n",
      "16. TITULO: Adulthood Is a Myth: A \"Sarah's Scribbles\" Collection. RATING: Two. PRECIO: 10.9\n",
      "17. TITULO: My Kitchen Year: 136 Recipes That Saved My Life. RATING: Two. PRECIO: 11.53\n",
      "18. TITULO: The Children. RATING: Three. PRECIO: 11.88\n",
      "19. TITULO: Hide Away (Eve Duncan #20). RATING: One. PRECIO: 11.84\n",
      "20. TITULO: The Sleep Revolution: Transforming Your Life, One Night at a Time. RATING: Four. PRECIO: 11.68\n",
      "21. TITULO: Underlying Notes. RATING: Two. PRECIO: 11.82\n",
      "22. TITULO: NaNo What Now? Finding your editing process, revising your NaNoWriMo book and building a writing career through publishing and beyond. RATING: Four. PRECIO: 10.41\n",
      "23. TITULO: History of Beauty. RATING: Four. PRECIO: 10.29\n",
      "24. TITULO: Brilliant Beacons: A History of the American Lighthouse. RATING: Three. PRECIO: 11.45\n",
      "25. TITULO: The Origin of Species. RATING: Four. PRECIO: 10.01\n",
      "26. TITULO: Naturally Lean: 125 Nourishing Gluten-Free, Plant-Based Recipes--All Under 300 Calories. RATING: Five. PRECIO: 11.38\n",
      "27. TITULO: The Fellowship of the Ring (The Lord of the Rings #1). RATING: Two. PRECIO: 10.27\n",
      "28. TITULO: The Power Greens Cookbook: 140 Delicious Superfood Recipes. RATING: Five. PRECIO: 11.05\n",
      "29. TITULO: The Darkest Corners. RATING: Five. PRECIO: 11.33\n",
      "30. TITULO: The 5th Wave (The 5th Wave #1). RATING: Two. PRECIO: 11.83\n",
      "31. TITULO: Remember Me?. RATING: Three. PRECIO: 11.48\n",
      "32. TITULO: An Abundance of Katherines. RATING: Five. PRECIO: 10.0\n",
      "33. TITULO: A Clash of Kings (A Song of Ice and Fire #2). RATING: Three. PRECIO: 10.79\n",
      "34. TITULO: The Tipping Point: How Little Things Can Make a Big Difference. RATING: Two. PRECIO: 10.02\n",
      "35. TITULO: The Restaurant at the End of the Universe (Hitchhiker's Guide to the Galaxy #2). RATING: One. PRECIO: 10.92\n",
      "36. TITULO: Reservations for Two. RATING: Three. PRECIO: 11.1\n",
      "37. TITULO: Lust & Wonder. RATING: Two. PRECIO: 11.87\n",
      "38. TITULO: Green Eggs and Ham (Beginner Books B-16). RATING: Four. PRECIO: 10.79\n",
      "39. TITULO: Counting Thyme. RATING: One. PRECIO: 10.62\n",
      "40. TITULO: Are We There Yet?. RATING: Three. PRECIO: 10.66\n",
      "41. TITULO: The Suffragettes (Little Black Classics, #96). RATING: Two. PRECIO: 11.89\n",
      "42. TITULO: Saga, Volume 2 (Saga (Collected Editions) #2). RATING: Three. PRECIO: 11.75\n",
      "43. TITULO: Fruits Basket, Vol. 2 (Fruits Basket #2). RATING: Five. PRECIO: 11.64\n",
      "44. TITULO: The Complete Maus (Maus #1-2). RATING: Three. PRECIO: 10.64\n",
      "Fijate que hay libros con buenos ratings!\n"
     ]
    }
   ],
   "source": [
    "# 1. Listar los libros cuyo precio está entre £10 y £12. y su rating\n",
    "\n",
    "import sqlite3\n",
    "conn = sqlite3.connect('books_data.db')\n",
    "cursor = conn.cursor()\n",
    "\n",
    "consulta = \"SELECT libros.titulo, libros.rating, libros.precio FROM libros WHERE libros.precio >= 10 AND libros.precio <= 12\"\n",
    "cursor.execute(consulta)\n",
    "\n",
    "libros = cursor.fetchall()\n",
    "\n",
    "print('Para cuando no tengas mucha plata! Pasa a ver estos titulos')\n",
    "contador = 0\n",
    "for libro in libros:\n",
    "    contador += 1\n",
    "    print(f'{contador}. TITULO: {libro[0]}. RATING: {libro[1]}. PRECIO: {libro[2]}')\n",
    "\n",
    "print('Fijate que hay libros con buenos ratings!')\n",
    "cursor.close()\n",
    "conn.close()\n"
   ]
  },
  {
   "cell_type": "code",
   "execution_count": 43,
   "id": "f3ad424e",
   "metadata": {},
   "outputs": [
    {
     "name": "stdout",
     "output_type": "stream",
     "text": [
      "Estos son los titulos MAS caros pero con MENOR rating\n",
      "1. TITULO: Thomas Jefferson and the Tripoli Pirates: The Forgotten War That Changed American History. RATING: One. PRECIO: 59.64\n",
      "2. TITULO: The Improbability of Love. RATING: One. PRECIO: 59.45\n",
      "3. TITULO: Unstuffed: Decluttering Your Home, Mind, and Soul. RATING: One. PRECIO: 58.09\n",
      "4. TITULO: Miracles from Heaven: A Little Girl, Her Journey to Heaven, and Her Amazing Story of Healing. RATING: One. PRECIO: 57.83\n",
      "5. TITULO: The Girl Who Kicked the Hornet's Nest (Millennium Trilogy #3). RATING: One. PRECIO: 57.48\n",
      "Que sus precios no te engañen!\n"
     ]
    }
   ],
   "source": [
    "# 2. Mostrar los 5 libros con mayor precio y menor rating, ordenados del más caro al menos caro\n",
    "import sqlite3\n",
    "conn = sqlite3.connect('books_data.db')\n",
    "cursor = conn.cursor()\n",
    "\n",
    "consulta = \"SELECT libros.titulo, libros.rating, libros.precio FROM libros WHERE libros.rating = 'One' ORDER BY libros.precio DESC LIMIT 5\"\n",
    "cursor.execute(consulta)\n",
    "\n",
    "libros = cursor.fetchall()\n",
    "\n",
    "print('Estos son los titulos MAS caros pero con MENOR rating')\n",
    "contador = 0\n",
    "for libro in libros:\n",
    "    contador += 1\n",
    "    print(f'{contador}. TITULO: {libro[0]}. RATING: {libro[1]}. PRECIO: {libro[2]}')\n",
    "\n",
    "print('Que sus precios no te engañen!')\n",
    "\n",
    "cursor.close()\n",
    "conn.close()"
   ]
  },
  {
   "cell_type": "code",
   "execution_count": 42,
   "id": "39d09622",
   "metadata": {},
   "outputs": [
    {
     "name": "stdout",
     "output_type": "stream",
     "text": [
      "Estos son los titulos dentro de la categoria \"Science Fiction\" que tienen entre 1 y 2 estrellas.\n",
      "1. TITULO: Mesaerion: The Best Science Fiction Stories 1800-1849. RATING: One.\n",
      "2. TITULO: The Project. RATING: One.\n",
      "3. TITULO: Soft Apocalypse. RATING: Two.\n",
      "4. TITULO: Sleeping Giants (Themis Files #1). RATING: One.\n",
      "5. TITULO: Foundation (Foundation (Publication Order) #1). RATING: One.\n",
      "6. TITULO: The Restaurant at the End of the Universe (Hitchhiker's Guide to the Galaxy #2). RATING: One.\n",
      "7. TITULO: Life, the Universe and Everything (Hitchhiker's Guide to the Galaxy #3). RATING: Two.\n",
      "8. TITULO: Dune (Dune #1). RATING: One.\n",
      "9. TITULO: Do Androids Dream of Electric Sheep? (Blade Runner #1). RATING: One.\n",
      "10. TITULO: Three Wishes (River of Time: California #1). RATING: Two.\n",
      "11. TITULO: The Last Girl (The Dominion Trilogy #1). RATING: Two.\n",
      "Para cuando busques algo malo a propósito. Que lo disfrutes!\n"
     ]
    }
   ],
   "source": [
    "# 3. Libros de una categoría específica con rating 1 0 2, para cuando buscas algo 'malo' a propósito\n",
    "import sqlite3\n",
    "conn = sqlite3.connect('books_data.db')\n",
    "cursor = conn.cursor()\n",
    "\n",
    "consulta = \"SELECT libros.titulo, libros.rating FROM libros WHERE libros.categoria = 'Science Fiction' AND (libros.rating = 'One' OR libros.rating = 'Two')\"\n",
    "cursor.execute(consulta)\n",
    "\n",
    "libros = cursor.fetchall()\n",
    "\n",
    "print('Estos son los titulos dentro de la categoria \"Science Fiction\" que tienen entre 1 y 2 estrellas.')\n",
    "contador = 0\n",
    "for libro in libros:\n",
    "    contador += 1\n",
    "    print(f'{contador}. TITULO: {libro[0]}. RATING: {libro[1]}.')\n",
    "\n",
    "print('Para cuando busques algo malo a propósito. Que lo disfrutes!')\n",
    "cursor.close()\n",
    "conn.close()"
   ]
  },
  {
   "cell_type": "code",
   "execution_count": 47,
   "id": "3ff20ec4",
   "metadata": {},
   "outputs": [
    {
     "name": "stdout",
     "output_type": "stream",
     "text": [
      "La categoria con mas libros con 5 estrellas es Default, con 29 libros en total.\n",
      "Para que pases a explorar esta increible categoria!!\n"
     ]
    }
   ],
   "source": [
    "# 4. Categoria donde la mayoria de los libros tengan rating = 5\n",
    "import sqlite3\n",
    "conn = sqlite3.connect('books_data.db')\n",
    "cursor = conn.cursor()\n",
    "\n",
    "consulta = \"SELECT COUNT(libros.titulo), libros.categoria FROM libros WHERE libros.rating = 'Five' GROUP BY libros.categoria ORDER BY COUNT(libros.titulo) DESC LIMIT 1;\"\n",
    "cursor.execute(consulta)\n",
    "\n",
    "libros = cursor.fetchall()\n",
    "\n",
    "for libro in libros:\n",
    "    print(f'La categoria con mas libros con 5 estrellas es {libro[1]}, con {libro[0]} libros en total.')\n",
    "print('Para que pases a explorar esta increible categoria!!')\n",
    "\n",
    "cursor.close()\n",
    "conn.close()"
   ]
  },
  {
   "cell_type": "code",
   "execution_count": 49,
   "id": "c4fcdf32",
   "metadata": {},
   "outputs": [
    {
     "name": "stdout",
     "output_type": "stream",
     "text": [
      "El autor que escribio mas libros con rating 1 es Cassandra Clare, con 3 libros en total.\n",
      "Que penoso!\n"
     ]
    }
   ],
   "source": [
    "# 5. Autor con mayor cantidad de libros y menor rating\n",
    "import sqlite3\n",
    "conn = sqlite3.connect('books_data.db')\n",
    "cursor = conn.cursor()\n",
    "\n",
    "consulta = \"SELECT COUNT(libros.titulo), autores.nombre_completo FROM libros_autores JOIN libros ON libros_autores.libro_id = libros.id JOIN autores ON libros_autores.autor_id = autores.id WHERE libros.rating = 'One' GROUP BY autores.nombre_completo ORDER BY COUNT(libros.titulo) DESC LIMIT 1;\"\n",
    "cursor.execute(consulta)\n",
    "\n",
    "libros = cursor.fetchall()\n",
    "\n",
    "for libro in libros:\n",
    "    print(f'El autor que escribio mas libros con rating 1 es {libro[1]}, con {libro[0]} libros en total.')\n",
    "print('Que penoso!')\n",
    "cursor.close()\n",
    "conn.close()"
   ]
  },
  {
   "cell_type": "markdown",
   "id": "d0a1caf8",
   "metadata": {},
   "source": [
    "## Consultas con y sin indexacion\n",
    "\n",
    "Objetivo: ver la diferencia en cuanto a como tardan"
   ]
  },
  {
   "cell_type": "code",
   "execution_count": null,
   "id": "07dbd891",
   "metadata": {},
   "outputs": [
    {
     "name": "stdout",
     "output_type": "stream",
     "text": [
      "Tiempo SIN indexacion: 0.0017287731170654297 segundos\n"
     ]
    }
   ],
   "source": [
    "# Libros de la categoria Poetry\n",
    "import time\n",
    "import sqlite3\n",
    "\n",
    "conn = sqlite3.connect('books_data.db')\n",
    "cursor = conn.cursor()\n",
    "\n",
    "# Medir el tiempo SIN indexacion\n",
    "inicio_tiempo = time.time()\n",
    "consulta_categoria = \"SELECT * FROM libros WHERE categoria = 'Poetry';\"\n",
    "cursor.execute(consulta_categoria)\n",
    "conn.commit()\n",
    "fin_tiempo = time.time()\n",
    "print(f'Tiempo SIN indexacion: {fin_tiempo - inicio_tiempo} segundos')\n",
    "\n",
    "cursor.close()\n",
    "conn.close()"
   ]
  },
  {
   "cell_type": "code",
   "execution_count": 6,
   "id": "c730aff5",
   "metadata": {},
   "outputs": [
    {
     "name": "stdout",
     "output_type": "stream",
     "text": [
      "Tiempo CON indexacion: 0.0002143383026123047 segundos\n"
     ]
    }
   ],
   "source": [
    "import time\n",
    "import sqlite3\n",
    "\n",
    "conn = sqlite3.connect('books_data.db')\n",
    "cursor = conn.cursor()\n",
    "\n",
    "index_categoria = \"CREATE INDEX IF NOT EXISTS idx_categoria ON libros(categoria)\"\n",
    "index_rating = \"CREATE INDEX IF NOT EXISTS idx_rating ON libros(rating)\"\n",
    "\n",
    "cursor.execute(index_categoria)\n",
    "cursor.execute(index_rating)\n",
    "conn.commit()\n",
    "\n",
    "# Medir el tiempo CON indexacion\n",
    "inicio_tiempo = time.time()\n",
    "consulta_categoria = \"SELECT * FROM libros WHERE categoria = 'Poetry';\"\n",
    "cursor.execute(consulta_categoria)\n",
    "conn.commit()\n",
    "fin_tiempo = time.time()\n",
    "print(f'Tiempo CON indexacion: {fin_tiempo - inicio_tiempo} segundos')\n",
    "\n",
    "cursor.close()\n",
    "conn.close()"
   ]
  },
  {
   "cell_type": "markdown",
   "id": "f2735f06",
   "metadata": {},
   "source": [
    "### 2"
   ]
  },
  {
   "cell_type": "code",
   "execution_count": null,
   "id": "d459d89e",
   "metadata": {},
   "outputs": [
    {
     "name": "stdout",
     "output_type": "stream",
     "text": [
      "Tiempo SIN indexacion: 0.0014219284057617188 segundos\n"
     ]
    }
   ],
   "source": [
    "## Mostrar los autores cuyo nombre empiece con \"A\" y estén relacionados con algún libro.\n",
    "import time\n",
    "import sqlite3\n",
    "\n",
    "conn = sqlite3.connect('books_data.db')\n",
    "cursor = conn.cursor()\n",
    "\n",
    "inicio_tiempo = time.time()\n",
    "consulta = \"SELECT autores.nombre_completo FROM libros_autores JOIN autores ON libros_autores.autor_id = autores.id WHERE autores.nombre_completo LIKE 'a%'\"\n",
    "cursor.execute(consulta)\n",
    "fin_tiempo = time.time()\n",
    "# autores_que_empiezan_con_a = cursor.fetchall()     # funciona\n",
    "# #autores_que_empiezan_con_a = cursor.fetchmany(5)    # demostracion con 5\n",
    "\n",
    "# contador = 0\n",
    "# for autor in autores_que_empiezan_con_a:\n",
    "#     contador += 1\n",
    "#     print(f'{contador}. {autor}')\n",
    "print(f'Tiempo SIN indexacion: {fin_tiempo - inicio_tiempo} segundos')\n",
    "cursor.close()\n",
    "conn.close()"
   ]
  },
  {
   "cell_type": "code",
   "execution_count": 8,
   "id": "7b5eeda2",
   "metadata": {},
   "outputs": [
    {
     "name": "stdout",
     "output_type": "stream",
     "text": [
      "Tiempo CON indexacion: 0.0005309581756591797 segundos\n"
     ]
    }
   ],
   "source": [
    "import time\n",
    "import sqlite3\n",
    "\n",
    "conn = sqlite3.connect('books_data.db')\n",
    "cursor = conn.cursor()\n",
    "\n",
    "index_nombre = \"CREATE INDEX IF NOT EXISTS idx_nombre ON autores(nombre_completo)\"\n",
    "\n",
    "cursor.execute(index_nombre)\n",
    "conn.commit()\n",
    "\n",
    "inicio_tiempo = time.time()\n",
    "consulta = \"SELECT autores.nombre_completo FROM libros_autores JOIN autores ON libros_autores.autor_id = autores.id WHERE autores.nombre_completo LIKE 'a%'\"\n",
    "cursor.execute(consulta)\n",
    "fin_tiempo = time.time()\n",
    "# autores_que_empiezan_con_a = cursor.fetchall()     # funciona\n",
    "# #autores_que_empiezan_con_a = cursor.fetchmany(5)    # demostracion con 5\n",
    "\n",
    "# contador = 0\n",
    "# for autor in autores_que_empiezan_con_a:\n",
    "#     contador += 1\n",
    "#     print(f'{contador}. {autor}')\n",
    "print(f'Tiempo CON indexacion: {fin_tiempo - inicio_tiempo} segundos')\n",
    "cursor.close()\n",
    "conn.close()"
   ]
  }
 ],
 "metadata": {
  "kernelspec": {
   "display_name": "venv",
   "language": "python",
   "name": "python3"
  },
  "language_info": {
   "codemirror_mode": {
    "name": "ipython",
    "version": 3
   },
   "file_extension": ".py",
   "mimetype": "text/x-python",
   "name": "python",
   "nbconvert_exporter": "python",
   "pygments_lexer": "ipython3",
   "version": "3.13.5"
  }
 },
 "nbformat": 4,
 "nbformat_minor": 5
}
